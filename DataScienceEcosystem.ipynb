{
 "cells": [
  {
   "cell_type": "markdown",
   "id": "18e89076",
   "metadata": {},
   "source": [
    "# Data Science Tools And Ecosystem"
   ]
  },
  {
   "cell_type": "markdown",
   "id": "966c21b3",
   "metadata": {},
   "source": [
    "# Objectives\n",
    "\n",
    "* Introduction\n",
    "* Data science languages\n",
    "* Data science Libraries\n",
    "* Tools pf Data Science"
   ]
  },
  {
   "cell_type": "markdown",
   "id": "6d563440",
   "metadata": {},
   "source": [
    "## Introduction\n",
    "In this notebook I will summarize some notes about data science tools and ecosystem. I will write about popular languges of data science, its popular libraries, its tools and etc.\n",
    "\n"
   ]
  },
  {
   "cell_type": "markdown",
   "id": "873ba017",
   "metadata": {},
   "source": []
  },
  {
   "cell_type": "markdown",
   "id": "e65e179d",
   "metadata": {},
   "source": [
    "## popular languages of data science\n",
    "\n",
    "Most of the popular languages are: \n",
    "\n",
    "    1- python\n",
    "    2- SQL\n",
    "    3- JavaScript\n",
    "    4- Scala\n",
    "    5- Julia"
   ]
  },
  {
   "cell_type": "markdown",
   "id": "48060968",
   "metadata": {},
   "source": [
    "## popular Libraries of data science\n",
    "\n",
    "Data Science Libraries:\n",
    "\n",
    "    1-NumPy \n",
    "    2-Pandas \n",
    "    3-Matplotlib\n",
    "    4-Seaborn\n",
    "    5-Scikit-learn\n",
    "    6- SciPy\n",
    "    7- Keras\n"
   ]
  },
  {
   "attachments": {},
   "cell_type": "markdown",
   "id": "5a95386a",
   "metadata": {},
   "source": [
    "## Tools of data science\n",
    "\n",
    "|Data Science Tools |\n",
    "|-------------------|\n",
    "|Jupyter Notebook   |\n",
    "| Py Torch          |\n",
    "| Tableau           |"
   ]
  },
  {
   "cell_type": "markdown",
   "id": "9b6694b9",
   "metadata": {},
   "source": [
    "## Arithmetic Expressions\n",
    "Arithmetic Expressions\n",
    "they are the normal mathematical operations such as addition ( + ) subtraction ( - ) multiplication ( * )\n",
    "and division ( / ) and they are being used widely in data science.\n",
    "\n",
    "### Here are some examples of arithmetic expressions\n"
   ]
  },
  {
   "cell_type": "code",
   "execution_count": 2,
   "id": "974ce9cb",
   "metadata": {},
   "outputs": [
    {
     "data": {
      "text/plain": [
       "17"
      ]
     },
     "execution_count": 2,
     "metadata": {},
     "output_type": "execute_result"
    }
   ],
   "source": [
    "# This is an examle of a simple arithmetic sepression to multiply the add integers\n",
    "\n",
    "(3*4) + 5"
   ]
  },
  {
   "cell_type": "code",
   "execution_count": 3,
   "id": "8b45993e",
   "metadata": {},
   "outputs": [
    {
     "name": "stdout",
     "output_type": "stream",
     "text": [
      "The number of hours is : 3.3333333333333335\n"
     ]
    }
   ],
   "source": [
    "# This will convert 200 min to hours\n",
    "\n",
    "min = 200\n",
    "hours = min / 60\n",
    "print(\"The number of hours is :\", hours)"
   ]
  },
  {
   "cell_type": "markdown",
   "id": "b07401a4",
   "metadata": {},
   "source": [
    "## Author \n",
    "Mahmoud Diaa Abd-Elkahhar"
   ]
  },
  {
   "cell_type": "code",
   "execution_count": null,
   "id": "11d54057",
   "metadata": {},
   "outputs": [],
   "source": []
  }
 ],
 "metadata": {
  "kernelspec": {
   "display_name": "Python 3 (ipykernel)",
   "language": "python",
   "name": "python3"
  },
  "language_info": {
   "codemirror_mode": {
    "name": "ipython",
    "version": 3
   },
   "file_extension": ".py",
   "mimetype": "text/x-python",
   "name": "python",
   "nbconvert_exporter": "python",
   "pygments_lexer": "ipython3",
   "version": "3.9.13"
  }
 },
 "nbformat": 4,
 "nbformat_minor": 5
}
